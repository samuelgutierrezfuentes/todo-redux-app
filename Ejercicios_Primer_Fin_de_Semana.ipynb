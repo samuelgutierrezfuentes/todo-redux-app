{
  "nbformat": 4,
  "nbformat_minor": 0,
  "metadata": {
    "colab": {
      "name": "Ejercicios_Primer_Fin_de_Semana.ipynb",
      "provenance": [],
      "collapsed_sections": [],
      "include_colab_link": true
    },
    "kernelspec": {
      "name": "python3",
      "display_name": "Python 3"
    }
  },
  "cells": [
    {
      "cell_type": "markdown",
      "metadata": {
        "id": "view-in-github",
        "colab_type": "text"
      },
      "source": [
        "<a href=\"https://colab.research.google.com/github/samuelgutierrezfuentes/todo-redux-app/blob/main/Ejercicios_Primer_Fin_de_Semana.ipynb\" target=\"_parent\"><img src=\"https://colab.research.google.com/assets/colab-badge.svg\" alt=\"Open In Colab\"/></a>"
      ]
    },
    {
      "cell_type": "code",
      "metadata": {
        "id": "VX2lcsPh0aTP"
      },
      "source": [
        ""
      ],
      "execution_count": null,
      "outputs": []
    },
    {
      "cell_type": "markdown",
      "metadata": {
        "id": "JbyRE6Oj0axG"
      },
      "source": [
        "# Ejercicios para casa de los 4 primeros módulos.\n",
        "\n",
        "1.. Escribir un programa que pregunte al usuario por el número de horas trabajadas y el coste por hora. Después debe mostrar por pantalla la paga que le corresponde."
      ]
    },
    {
      "cell_type": "code",
      "metadata": {
        "id": "t4ipHyFe0p-0",
        "colab": {
          "base_uri": "https://localhost:8080/"
        },
        "outputId": "c11500a3-7c13-4344-c667-1121cbdf610f"
      },
      "source": [
        "try:\r\n",
        "\r\n",
        "  hrasTrabajados = float( input(\"Ingrese el número de horas trabajadas: \\n\"))\r\n",
        "  costeHora = float( input(\"Ingrese el coste por hora: \\n\"))\r\n",
        "\r\n",
        "  print(\"La paga correspondiente es: \", (hrasTrabajados * costeHora) )\r\n",
        "\r\n",
        "except Exception as ex:\r\n",
        "  print(\"Ha ocurrido el siguiente error: \", ex)"
      ],
      "execution_count": 18,
      "outputs": [
        {
          "output_type": "stream",
          "text": [
            "Ingrese el número de horas trabajadas: \n",
            "10\n",
            "Ingrese el coste por hora: \n",
            "10\n",
            "La paga correspondiente es:  100.0\n"
          ],
          "name": "stdout"
        }
      ]
    },
    {
      "cell_type": "markdown",
      "metadata": {
        "id": "S8S2G9JV0qgM"
      },
      "source": [
        "2.. Una panadería vende barras de pan a 3.49€ cada una. El pan que no es el día tiene un descuento del 60%. Escribe un programa que comience leyendo el número de barras vendidas que no son del día. Después tu programa debe mostrar el precio habitual de una barra de pan, el descuento que se le hace por no ser fresca y el coste final total."
      ]
    },
    {
      "cell_type": "code",
      "metadata": {
        "id": "iyDd3jyP0sJF",
        "colab": {
          "base_uri": "https://localhost:8080/"
        },
        "outputId": "c171f260-90ed-414c-fbda-f9d17b10aaf7"
      },
      "source": [
        "try:\r\n",
        "  precio = 3.49\r\n",
        "  porcDescto = 0.60\r\n",
        "  descto = float(precio*porcDescto)\r\n",
        "  precioDesto = round( precio-(precio*porcDescto), 2)\r\n",
        "\r\n",
        "  barrasNoDia = float( input(\"Ingrese el numero de barras que no son del dia: \\n\"))\r\n",
        "  \r\n",
        "  print(\" Precio normal: \", precio, \" \\n Descuento(60%): \", descto,\"\\n Precio con descto: \", precioDesto, \"\\n Costo total: \", (precioDesto * barrasNoDia) )\r\n",
        "  \r\n",
        "except Exception as ex:\r\n",
        "  print(\"Ha ocurrido el siguiente error: \", ex)"
      ],
      "execution_count": 19,
      "outputs": [
        {
          "output_type": "stream",
          "text": [
            "Ingrese el numero de barras que no son del dia: \n",
            "10\n",
            " Precio normal:  3.49  \n",
            " Descuento(60%):  2.094 \n",
            " Precio con descto:  1.4 \n",
            " Costo total:  14.0\n"
          ],
          "name": "stdout"
        }
      ]
    },
    {
      "cell_type": "markdown",
      "metadata": {
        "id": "UdF4VqTq063F"
      },
      "source": [
        "3.. Para tributar un determinado impuesto se debe ser mayor de 16 años y tener unos ingresos iguales o superiores a 1000 € mensuales. Escribir un programa que pregunte al usuario su edad y sus ingresos mensuales y muestre por pantalla si el usuario tiene que tributar o no.\n",
        "\n",
        "\n"
      ]
    },
    {
      "cell_type": "code",
      "metadata": {
        "id": "O479MRLZ06As",
        "colab": {
          "base_uri": "https://localhost:8080/"
        },
        "outputId": "77f451f3-39b4-4f1e-fe60-0e3d9505dc3c"
      },
      "source": [
        "try:\r\n",
        "\r\n",
        "  edad = float( input(\"Ingrese su edad: \\n\"))\r\n",
        "  ingresos = float( input(\"Ingrese sus ingresos: \\n\"))\r\n",
        "\r\n",
        "  if edad > 16 and ingresos > 1000:\r\n",
        "    \r\n",
        "    print(\"\\t Usted debe tributar\")\r\n",
        "  else:\r\n",
        "\r\n",
        "    print(\"***  Usted No debe tributar\")\r\n",
        "\r\n",
        "\r\n",
        "except Exception as ex:\r\n",
        "  print(\"Ha ocurrido el siguiente error: \", ex)"
      ],
      "execution_count": 24,
      "outputs": [
        {
          "output_type": "stream",
          "text": [
            "Ingrese su edad: \n",
            "18\n",
            "Ingrese sus ingresos: \n",
            "2500\n",
            "\t Usted debe tributar\n"
          ],
          "name": "stdout"
        }
      ]
    },
    {
      "cell_type": "markdown",
      "metadata": {
        "id": "TAhpgVqn1E6m"
      },
      "source": [
        "4.. Los alumnos de un curso se han dividido en dos grupos A y B de acuerdo al sexo y el nombre. El grupo A esta formado por las mujeres con un nombre anterior a la M y los hombres con un nombre posterior a la N y el grupo B por el resto. Escribir un programa que pregunte al usuario su nombre y sexo, y muestre por pantalla el grupo que le corresponde."
      ]
    },
    {
      "cell_type": "code",
      "metadata": {
        "id": "JPM2TCRS1Gi1",
        "colab": {
          "base_uri": "https://localhost:8080/"
        },
        "outputId": "c2567d7d-905f-4131-b6f0-cf318db22dac"
      },
      "source": [
        "try:\r\n",
        "\r\n",
        "  nombre = input(\"Ingrese su Nombre: \\n\")\r\n",
        "  genero = input(\"Genero: \\n Femenino(F) \\n Masculino(M) \\n\")\r\n",
        "\r\n",
        "  if (genero.lower() == \"f\" and nombre.lower() < \"m\" ) or (genero.lower() == \"m\" and nombre.lower() > \"n\" ):\r\n",
        " \r\n",
        "    print(\"** Grupo A\")\r\n",
        "  else:\r\n",
        " \r\n",
        "    print(\"** Grupo B\")\r\n",
        "\r\n",
        "except Exception as ex:\r\n",
        "  print(\"Ha ocurrido el siguiente error: \", ex)\r\n"
      ],
      "execution_count": 28,
      "outputs": [
        {
          "output_type": "stream",
          "text": [
            "Ingrese su Nombre: \n",
            "Ziomara\n",
            "Genero: \n",
            " Femenino(F) \n",
            " Masculino(M) \n",
            "f\n",
            "** Grupo B\n"
          ],
          "name": "stdout"
        }
      ]
    },
    {
      "cell_type": "markdown",
      "metadata": {
        "id": "dRyfIxDS1Pv0"
      },
      "source": [
        "5.. En una determinada empresa, sus empleados son evaluados al final de cada año. Los puntos que pueden obtener en la evaluación comienzan en 0.0 y pueden ir aumentando, traduciéndose en mejores beneficios. Los puntos que pueden conseguir los empleados pueden ser 0.0, 0.4, 0.6 o más, pero no valores intermedios entre las cifras mencionadas. A continuación se muestra una tabla con los niveles correspondientes a cada puntuación. La cantidad de dinero conseguida en cada nivel es de 2.400€ multiplicada por la puntuación del nivel.\n",
        "\n",
        "Nivel\tPuntuación\n",
        "\n",
        "Inaceptable\t0.0\n",
        "\n",
        "Aceptable\t0.4\n",
        "\n",
        "Meritorio\t0.6 o más\n",
        "\n",
        "\n",
        "\n",
        "Escribir un programa que lea la puntuación del usuario e indique su nivel de rendimiento, así como la cantidad de dinero que recibirá el usuario."
      ]
    },
    {
      "cell_type": "code",
      "metadata": {
        "id": "oWTbpb7i1xjV",
        "colab": {
          "base_uri": "https://localhost:8080/"
        },
        "outputId": "f146309d-2677-4378-f043-02748e4196d6"
      },
      "source": [
        "try:\r\n",
        "  base = 2400\r\n",
        "  puntos = float(input(\"Ingrese puntuación, opciones validas 0.0, 0.4 y 0.6 o mas \\n\"))\r\n",
        "\r\n",
        "  if puntos == 0.0 or puntos == 0.4 or puntos >= 0.6:\r\n",
        "    \r\n",
        "    bono = puntos * base\r\n",
        "    print(\"Su bono es de: \", bono)\r\n",
        "\r\n",
        "  else:\r\n",
        "    \r\n",
        "    print(\"El valor ingresado no es valido\")\r\n",
        "\r\n",
        "except Exception as ex:\r\n",
        "  print(\"Ha ocurrido el siguiente error: \", ex)"
      ],
      "execution_count": 32,
      "outputs": [
        {
          "output_type": "stream",
          "text": [
            "Ingrese puntuación, opciones validas 0.0, 0.4 y 0.6 o mas \n",
            "4.4\n",
            "Su bono es de:  10560.0\n"
          ],
          "name": "stdout"
        }
      ]
    },
    {
      "cell_type": "markdown",
      "metadata": {
        "id": "5T3cgXa-14gk"
      },
      "source": [
        "6.. La pizzería Bella Napoli ofrece pizzas vegetarianas y no vegetarianas a sus clientes. Los ingredientes para cada tipo de pizza aparecen a continuación.\n",
        "\n",
        "\n",
        "Ingredientes vegetarianos: Pimiento y tofu.\n",
        "\n",
        "Ingredientes no vegetarianos: Peperoni, Jamón y Salmón.\n",
        "\n",
        "Escribir un programa que pregunte al usuario si quiere una pizza vegetariana o no, y en función de su respuesta le muestre un menú con los ingredientes disponibles para que elija. Solo se puede eligir un ingrediente además de la mozzarella y el tomate que están en todas la pizzas. Al final se debe mostrar por pantalla si la pizza elegida es vegetariana o no y todos los ingredientes que lleva."
      ]
    },
    {
      "cell_type": "code",
      "metadata": {
        "id": "D_V1jXxW2AM8",
        "colab": {
          "base_uri": "https://localhost:8080/"
        },
        "outputId": "bfeedfb6-9024-4999-9829-420820cdcecf"
      },
      "source": [
        "try:\r\n",
        "\r\n",
        "  pizzaVegetariana = input(\"Desea pizza vegeteriana si/no \")\r\n",
        "\r\n",
        "  if pizzaVegetariana == \"si\":\r\n",
        "    \r\n",
        "    ingrediente = input(\"Seleccione un ingrediente: \\n\\t 1. Pimiento \\n\\t 2. Tofu \\n\")\r\n",
        "    ingredienteExta = \"\"\r\n",
        "\r\n",
        "    if ingrediente == \"1\":\r\n",
        "      ingredienteExta = \"Pimiento\"\r\n",
        "    elif ingrediente == \"2\":\r\n",
        "      ingredienteExta = \"Tofu\"\r\n",
        "  \r\n",
        "  else:\r\n",
        "    \r\n",
        "    ingrediente = input(\"Seleccione un ingrediente: \\n\\t 1. Peperoni \\n\\t 2. Jamon \\n\\t 3. Salmon \\n\")\r\n",
        "    ingredienteExta = \"\"\r\n",
        "    if ingrediente == \"1\":\r\n",
        "      ingredienteExta = \"Peperoni\"\r\n",
        "    elif ingrediente == \"2\":\r\n",
        "      ingredienteExta = \"Jamon\"\r\n",
        "    elif ingrediente == \"3\":\r\n",
        "      ingredienteExta = \"Salmon\"\r\n",
        "\r\n",
        "  print(\"Usted ha elegido una pizza \", \" Vegetariana \" if pizzaVegetariana ==\"si\" else \" Normal \", \"\\nSu orden esta lista con los siguientes ingredientes: \\n mozzarella, tomate y \", ingredienteExta)\r\n",
        "\r\n",
        "except Exception as ex:\r\n",
        "  print(\"Ha ocurrido el siguiente error: \", ex)"
      ],
      "execution_count": 41,
      "outputs": [
        {
          "output_type": "stream",
          "text": [
            "Desea pizza vegeteriana si/no no\n",
            "Seleccione un ingrediente: \n",
            "\t 1. Peperoni \n",
            "\t 2. Jamon \n",
            "\t 3. Salmon \n",
            "3\n",
            "Usted ha elegido una pizza   Normal  \n",
            "Su orden esta lista con los siguientes ingredientes: \n",
            " mozzarella, tomate y  Salmon\n"
          ],
          "name": "stdout"
        }
      ]
    },
    {
      "cell_type": "markdown",
      "metadata": {
        "id": "_SRO-Wvw2AcF"
      },
      "source": [
        "7.. Escribir un programa que pida al usuario una palabra y luego muestre por pantalla una a una las letras de la palabra introducida empezando por la última."
      ]
    },
    {
      "cell_type": "code",
      "metadata": {
        "id": "nxR2j9842PM8",
        "colab": {
          "base_uri": "https://localhost:8080/"
        },
        "outputId": "2f140063-c2f1-42b3-e5c6-8f1f2fbfa721"
      },
      "source": [
        "try:\r\n",
        "\r\n",
        "  palabra = input(\"Ingrese palabra: \\n\")\r\n",
        "\r\n",
        "  # print(len(palabra))\r\n",
        "  indice = len(palabra)\r\n",
        "  nuevaPalabra = \"\"\r\n",
        "  rango = len(palabra)\r\n",
        "\r\n",
        "  for i in range(rango):\r\n",
        "  \r\n",
        "    indice = indice-1\r\n",
        "    nuevaPalabra = nuevaPalabra + palabra[indice]\r\n",
        "  \r\n",
        "  print(nuevaPalabra)\r\n",
        "\r\n",
        "except Exception as ex:\r\n",
        "  print(\"Ha ocurrido el siguiente error: \", ex)"
      ],
      "execution_count": 56,
      "outputs": [
        {
          "output_type": "stream",
          "text": [
            "Ingrese palabra: \n",
            "mundo\n",
            "odnum\n"
          ],
          "name": "stdout"
        }
      ]
    },
    {
      "cell_type": "markdown",
      "metadata": {
        "id": "FehOXa5X3Lkl"
      },
      "source": [
        "8.. Un grupo de amigos decide organizar un juego de estrategia, para lo cual forman dos equipos de 6 integrantes cada uno, donde un integrante de cada equipo es el “jefe” y los otros 5 son sus “oficiales”. La regla más importante del juego es que sólo se comunicarán mediante un canal común, por lo que deben buscar la forma de ocultar el contenido de sus mensajes. Uno de los equipos decide utilizar un método antiguo de encriptación llamado “la cifra del césar”, que consiste en correr cada letra del mensaje –considerando la posición de cada una en el alfabeto– una determinada cantidad de lugares. Ejemplo: si el corrimiento es de 2 lugares, la palabra “ATAQUE” se transforma en “CVCSWG”.\n",
        "\n",
        "Cada día, el “jefe” del equipo debe enviar un mensaje a cada uno de sus oficiales. Escribir un programa que permita encriptar los 5 mensajes. El corrimiento (cantidad de lugares que se correrán las letras) será dado por el usuario antes de comenzar a encriptar. Los 5 mensajes usarán el mismo corrimiento.\n",
        "\n",
        "Nota: si el alfabeto termina antes de poder correr la cantidad de lugares necesarios, se vuelve a comenzar desde la letra “a”. Ejemplo: la palabra “EXTRA” corrida 3 lugares se convierte en “HAWUD”. Utilizando el alfabeto español, de 27 letras, el siguiente cálculo matemático permite volver a comenzar por el principio una vez que se llegó a la “z”: (índice de la letra a correr+corrimiento)%27\n",
        "\n",
        "Sólo se encriptarán las letras de los mensajes, dejando al resto de caracteres sin modificación"
      ]
    },
    {
      "cell_type": "code",
      "metadata": {
        "id": "G66-niWb3d6E",
        "colab": {
          "base_uri": "https://localhost:8080/"
        },
        "outputId": "d1c8c9e1-f101-4368-91fc-eb7d922e78b7"
      },
      "source": [
        "\r\n",
        "# try:\r\n",
        "  \r\n",
        "mensajes = 1\r\n",
        "\r\n",
        "letras =\"abcdefghjijklmnñopqrstuvwxyz\"\r\n",
        "\r\n",
        "while mensajes <= 5:\r\n",
        "\r\n",
        "  frase = input(\"dame mensaje: \"+ str( mensajes) ).lower()\r\n",
        "  clave = int(input(\"dame el desplazamiento: \"))\r\n",
        "\r\n",
        "  lista = frase.split(\" \")\r\n",
        "  nueva = \"\"\r\n",
        "\r\n",
        "  for palabra in lista:\r\n",
        "    for letra in palabra:\r\n",
        "      i = letras.index(letra)\r\n",
        "      n = (i+clave)%27\r\n",
        "      nueva = nueva + letras[n]\r\n",
        "        # print(letra, i, n)\r\n",
        "      nueva = nueva + \" \"\r\n",
        "  print(\"el codigo es: \", nueva)\r\n",
        "  mensajes = mensajes + 1\r\n",
        "\r\n",
        "# except Exception as ex:\r\n",
        "#  print(\"Ha ocurrido el siguiente error: \", ex)\r\n"
      ],
      "execution_count": 67,
      "outputs": [
        {
          "output_type": "stream",
          "text": [
            "dame mensaje: 1Test\n",
            "dame el desplazamiento: 1\n",
            "el codigo es:  u f t u \n",
            "dame mensaje: 2Test\n",
            "dame el desplazamiento: 1\n",
            "el codigo es:  u f t u \n",
            "dame mensaje: 3Test\n",
            "dame el desplazamiento: 2\n",
            "el codigo es:  v g u v \n",
            "dame mensaje: 4test\n",
            "dame el desplazamiento: 2\n",
            "el codigo es:  v g u v \n",
            "dame mensaje: 5test\n",
            "dame el desplazamiento: 1\n",
            "el codigo es:  u f t u \n"
          ],
          "name": "stdout"
        }
      ]
    },
    {
      "cell_type": "markdown",
      "metadata": {
        "id": "qGrQwdiI3gYs"
      },
      "source": [
        "9.. Escribir un programa que guarde en una variable el diccionario {'Euro':'€', 'Dollar':'$', 'Yen':'¥'}, pregunte al usuario por una divisa y muestre su símbolo o un mensaje de aviso si la divisa no está en el diccionario."
      ]
    },
    {
      "cell_type": "code",
      "metadata": {
        "id": "yDuBhnUT3huG",
        "colab": {
          "base_uri": "https://localhost:8080/"
        },
        "outputId": "6007daab-b0b0-4a2b-d1c1-f60d817ff71c"
      },
      "source": [
        "diccionario = {'Euro':'€', 'Dollar':'$', 'Yen':'¥'}\r\n",
        "\r\n",
        "try:\r\n",
        "\r\n",
        "  divisa = input(\"ingrese divisa: \\t\")\r\n",
        "  print(\"El simbolo de la divisa es: \", diccionario[divisa])\r\n",
        "\r\n",
        "except:\r\n",
        "  print(\"La divisa ingresada no esta registrada\")\r\n"
      ],
      "execution_count": 73,
      "outputs": [
        {
          "output_type": "stream",
          "text": [
            "ingrese divisa: \ttest\n",
            "La divisa ingresada no esta registrada\n"
          ],
          "name": "stdout"
        }
      ]
    },
    {
      "cell_type": "markdown",
      "metadata": {
        "id": "3nm5AnOJ3h5V"
      },
      "source": [
        "10.. Escribir un programa que gestione las facturas pendientes de cobro de una empresa. Las facturas se almacenarán en un diccionario donde la clave de cada factura será el número de factura y el valor el coste de la factura.\n",
        "\n",
        "El programa debe preguntar al usuario si quiere añadir una nueva factura, pagar una existente o terminar. Si desea añadir una nueva factura se preguntará por el número de factura y su coste y se añadirá al diccionario. Si se desea pagar una factura se preguntará por el número de factura y se eliminará del diccionario. Después de cada operación el programa debe mostrar por pantalla la cantidad cobrada hasta el momento y la cantidad pendiente de cobro."
      ]
    },
    {
      "cell_type": "code",
      "metadata": {
        "id": "Nu7EZnEz3qRV"
      },
      "source": [
        "facturas = {}\r\n",
        "factPagadas = 0\r\n",
        "factPendientes = 0\r\n",
        "accion = int(input(\"\\n Selecciona opcion: \\n 1. Nueva factura \\n 2. pagar factura \\n 3. Salir \\n\"))\r\n",
        "\r\n",
        "while accion != 3:\r\n",
        "\r\n",
        "  if accion == 1:\r\n",
        "    numeroFactura = input(\"Ingrse numero factura: \")\r\n",
        "    valorFactura = float(input(\"Ingrese valor factura: \"))\r\n",
        "\r\n",
        "    facturas[numeroFactura] = valorFactura\r\n",
        "    factPendientes = factPendientes + valorFactura\r\n",
        "  elif accion  == 2:\r\n",
        "    numeroFactura = input(\"Ingrese el numero de factura que desea pagar: \")\r\n",
        "    factPagadas = factPagadas + facturas[numeroFactura]\r\n",
        "    del facturas[numeroFactura]\r\n",
        "\r\n",
        "  print(\"Cantidad cobrada: \", factPagadas)\r\n",
        "  print(\"Cantidad pendientes: \", factPendientes)\r\n",
        "  accion = int(input(\"Selecciona opcion: \\n 1. Nueva factura \\n 2. pagar factura \\n 3. Salir \\n\"))\r\n"
      ],
      "execution_count": null,
      "outputs": []
    },
    {
      "cell_type": "markdown",
      "metadata": {
        "id": "fO1n0X-y3qas"
      },
      "source": [
        "Escribir un programa que permita gestionar la base de datos de clientes de una empresa. Los clientes se guardarán en un diccionario en el que la clave de cada cliente será su NIF, y el valor será otro diccionario con los datos del cliente (nombre, dirección, teléfono, correo, preferente), donde preferente tendrá el valor True si se trata de un cliente preferente. El programa debe preguntar al usuario por una opción del siguiente menú:\n",
        "\n",
        "(1) Añadir cliente,\n",
        "\n",
        "(2) Eliminar cliente,\n",
        "\n",
        "(3) Mostrar cliente,\n",
        "\n",
        "(4) Listar todos los clientes,\n",
        "\n",
        "(5) Listar clientes preferentes,\n",
        "\n",
        "(6) Terminar.\n",
        "\n",
        "En función de la opción elegida el programa tendrá que hacer lo siguiente:\n",
        "\n",
        "Preguntar los datos del cliente, crear un diccionario con los datos y añadirlo a la base de datos.\n",
        "\n",
        "Preguntar por el NIF del cliente y eliminar sus datos de la base de datos.\n",
        "\n",
        "Preguntar por el NIF del cliente y mostrar sus datos.\n",
        "\n",
        "Mostrar lista de todos los clientes de la base datos con su NIF y nombre.\n",
        "\n",
        "Mostrar la lista de clientes preferentes de la base de datos con su NIF y nombre.\n",
        "\n",
        "Terminar el programa."
      ]
    },
    {
      "cell_type": "markdown",
      "metadata": {
        "id": "D0PIITVA3eIs"
      },
      "source": [
        ""
      ]
    },
    {
      "cell_type": "code",
      "metadata": {
        "colab": {
          "base_uri": "https://localhost:8080/"
        },
        "id": "NCjY7zE_5Xfm",
        "outputId": "431eb68d-692b-428d-8855-00301d7a1c5a"
      },
      "source": [
        "try:\r\n",
        "\r\n",
        "  listaClientes = []\r\n",
        "  opcion = input(\"Seleccione una opción:\\n(1)Añadir cliente \\n(2)Eliminar cliente \\n(3)Mostrar cliente \\n(4)Listar todos los clientes \\n(5)Listar Clietes Preferentes \\n(6)Terminar\")\r\n",
        "\r\n",
        "  while opcion != \"6\":\r\n",
        "    if opcion == \"1\":\r\n",
        "      print(\"======================================================\\n\")\r\n",
        "      print(\"Agregando un cliente: \\n\")\r\n",
        "      print(\"======================================================\\n\")\r\n",
        "      cliente = {}\r\n",
        "      datosCliente = {}\r\n",
        "\r\n",
        "      nie = input(\"Ingrese NIE:\\t\")\r\n",
        "\r\n",
        "      nombre = input(\"Ingrese nombre: \\t\")\r\n",
        "      datosCliente[\"nombre\"] = nombre\r\n",
        "      \r\n",
        "      direccion = input(\"Ingrese direccion: \\t\")\r\n",
        "      datosCliente[\"direccion\"] = direccion\r\n",
        "      \r\n",
        "      telefono = input(\"Ingrese telefono: \\t\")\r\n",
        "      datosCliente[\"telefono\"] = telefono\r\n",
        "      \r\n",
        "      correo = input(\"Ingrese correo: \\t\")\r\n",
        "      datosCliente[\"correo\"] = correo\r\n",
        "      \r\n",
        "      preferente = input(\"Es preferente: si/no \\t\")\r\n",
        "      datosCliente[\"preferente\"] = True if preferente ==\"si\" else False\r\n",
        "    \r\n",
        "      cliente[nie] = datosCliente\r\n",
        "      listaClientes.append(cliente)\r\n",
        "\r\n",
        "    elif opcion == \"2\":\r\n",
        "\r\n",
        "      nie = input(\"Ingrese el nie del cliente que desea eliminar\")\r\n",
        "      for item_ in listaClientes:\r\n",
        "        for clave, valor in item_.items():\r\n",
        "          if clave == nie:\r\n",
        "            listaClientes.remove(item_)\r\n",
        "    \r\n",
        "    elif opcion == \"3\":\r\n",
        "\r\n",
        "      nie = input(\"Ingrese el nie del cliente que desea\")\r\n",
        "      for item_ in listaClientes:\r\n",
        "        for clave, valor in item_.items():\r\n",
        "          if clave == nie:\r\n",
        "            cliente = \"NIE: \"+ clave + \"\\t Nombre: \" + valor[\"nombre\"]+ \"\\t Direccion: \" + valor[\"direccion\"]+ \"\\t Telefono: \" + valor[\"telefono\"]+ \"\\t Correo: \" + valor[\"correo\"]+ \"\\t Preferente: \" + \"Si\" if valor[\"preferente\"] == True else \"No\"\r\n",
        "            print(cliente)\r\n",
        "\r\n",
        "    elif opcion == \"4\":\r\n",
        "      print(\"======================================================\\n\")\r\n",
        "      print(\"Lista de clientes: \\n\")\r\n",
        "      print(\"======================================================\\n\")\r\n",
        "      for item_ in listaClientes:\r\n",
        "        cliente = \"\"\r\n",
        "        for clave, valor in item_.items():\r\n",
        "          #print( valor[\"preferente\"])\r\n",
        "          cliente = \"NIE: \"+ clave + \"\\t Nombre: \" + valor[\"nombre\"]+ \"\\t Direccion: \" + valor[\"direccion\"]+ \"\\t Telefono: \" + valor[\"telefono\"]+ \"\\t Correo: \" + valor[\"correo\"]+ \"\\t Preferente: \" + \"Si\" if valor[\"preferente\"] == True else \"No\"\r\n",
        "          print(cliente)\r\n",
        "    \r\n",
        "    elif opcion == \"5\":\r\n",
        "\r\n",
        "      print(\"======================================================\\n\")\r\n",
        "      print(\"Lista de clientes preferentes: \\n\")\r\n",
        "      print(\"======================================================\\n\")\r\n",
        "      for item_ in listaClientes:\r\n",
        "        for clave, valor in item_.items():\r\n",
        "          #print(valor[\"preferente\"])\r\n",
        "          if str(valor[\"preferente\"]) == \"True\":\r\n",
        "            cliente = \"NIE: \"+ clave + \"\\t Nombre: \" + valor[\"nombre\"]+ \"\\t Direccion: \" + valor[\"direccion\"]+ \"\\t Telefono: \" + valor[\"telefono\"]+ \"\\t Correo: \" + valor[\"correo\"]+ \"\\t Preferente: \" + \"Si\" if valor[\"preferente\"] == True else \"No\"\r\n",
        "            print(cliente)\r\n",
        "    \r\n",
        "\r\n",
        "  \r\n",
        "    opcion = input(\"Seleccione una opción:\\n(1)Añadir cliente \\n(2)Eliminar cliente \\n(3)Mostrar cliente \\n(4)Listar todos los clientes \\n(5)Listar Clietes Preferentes \\n(6)Terminar\")\r\n",
        "\r\n",
        "except Exception as ex:\r\n",
        "  print(\"Ha ocurrido el siguiente error: \", ex)\r\n"
      ],
      "execution_count": 87,
      "outputs": [
        {
          "output_type": "stream",
          "text": [
            "Seleccione una opción:\n",
            "(1)Añadir cliente \n",
            "(2)Eliminar cliente \n",
            "(3)Mostrar cliente \n",
            "(4)Listar todos los clientes \n",
            "(5)Listar Clietes Preferentes \n",
            "(6)Terminar1\n",
            "======================================================\n",
            "\n",
            "Agregando un cliente: \n",
            "\n",
            "======================================================\n",
            "\n",
            "Ingrese NIE:\t1\n",
            "Ingrese nombre: \t1\n",
            "Ingrese direccion: \t1\n",
            "Ingrese telefono: \t1\n",
            "Ingrese correo: \t1\n",
            "Es preferente: si/no \tsi\n",
            "Seleccione una opción:\n",
            "(1)Añadir cliente \n",
            "(2)Eliminar cliente \n",
            "(3)Mostrar cliente \n",
            "(4)Listar todos los clientes \n",
            "(5)Listar Clietes Preferentes \n",
            "(6)Terminar1\n",
            "======================================================\n",
            "\n",
            "Agregando un cliente: \n",
            "\n",
            "======================================================\n",
            "\n",
            "Ingrese NIE:\t2\n",
            "Ingrese nombre: \t2\n",
            "Ingrese direccion: \t2\n",
            "Ingrese telefono: \t2\n",
            "Ingrese correo: \tsi\n",
            "Es preferente: si/no \tsi\n",
            "Seleccione una opción:\n",
            "(1)Añadir cliente \n",
            "(2)Eliminar cliente \n",
            "(3)Mostrar cliente \n",
            "(4)Listar todos los clientes \n",
            "(5)Listar Clietes Preferentes \n",
            "(6)Terminar1\n",
            "======================================================\n",
            "\n",
            "Agregando un cliente: \n",
            "\n",
            "======================================================\n",
            "\n",
            "Ingrese NIE:\t3\n",
            "Ingrese nombre: \t3\n",
            "Ingrese direccion: \t3\n",
            "Ingrese telefono: \t3\n",
            "Ingrese correo: \t3\n",
            "Es preferente: si/no \tno\n",
            "Seleccione una opción:\n",
            "(1)Añadir cliente \n",
            "(2)Eliminar cliente \n",
            "(3)Mostrar cliente \n",
            "(4)Listar todos los clientes \n",
            "(5)Listar Clietes Preferentes \n",
            "(6)Terminar2\n",
            "Ingrese el nie del cliente que desea eliminar3\n",
            "Seleccione una opción:\n",
            "(1)Añadir cliente \n",
            "(2)Eliminar cliente \n",
            "(3)Mostrar cliente \n",
            "(4)Listar todos los clientes \n",
            "(5)Listar Clietes Preferentes \n",
            "(6)Terminar4\n",
            "======================================================\n",
            "\n",
            "Lista de clientes: \n",
            "\n",
            "======================================================\n",
            "\n",
            "True\n",
            "NIE: 1\t Nombre: 1\t Direccion: 1\t Telefono: 1\t Correo: 1\t Preferente: Si\n",
            "True\n",
            "NIE: 2\t Nombre: 2\t Direccion: 2\t Telefono: 2\t Correo: si\t Preferente: Si\n",
            "Seleccione una opción:\n",
            "(1)Añadir cliente \n",
            "(2)Eliminar cliente \n",
            "(3)Mostrar cliente \n",
            "(4)Listar todos los clientes \n",
            "(5)Listar Clietes Preferentes \n",
            "(6)Terminar5\n",
            "======================================================\n",
            "\n",
            "Lista de clientes preferentes: \n",
            "\n",
            "======================================================\n",
            "\n",
            "True\n",
            "NIE: 1\t Nombre: 1\t Direccion: 1\t Telefono: 1\t Correo: 1\t Preferente: Si\n",
            "True\n",
            "NIE: 2\t Nombre: 2\t Direccion: 2\t Telefono: 2\t Correo: si\t Preferente: Si\n",
            "Seleccione una opción:\n",
            "(1)Añadir cliente \n",
            "(2)Eliminar cliente \n",
            "(3)Mostrar cliente \n",
            "(4)Listar todos los clientes \n",
            "(5)Listar Clietes Preferentes \n",
            "(6)Terminar6\n"
          ],
          "name": "stdout"
        }
      ]
    },
    {
      "cell_type": "code",
      "metadata": {
        "id": "NXW9V1oJE4dw"
      },
      "source": [
        ""
      ],
      "execution_count": null,
      "outputs": []
    }
  ]
}